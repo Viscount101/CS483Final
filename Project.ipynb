{
 "cells": [
  {
   "cell_type": "markdown",
   "id": "47919e94-9c89-4dea-8aee-eac60f74dda6",
   "metadata": {},
   "source": [
    "Aaron Laferty - Jake Onkka\n",
    "https://www.kaggle.com/competitions/spaceship-titanic/data"
   ]
  },
  {
   "cell_type": "code",
   "execution_count": 9,
   "id": "d50a524f-cd1d-48e5-b055-c365719c5e8a",
   "metadata": {},
   "outputs": [],
   "source": [
    "import pandas as pd\n",
    "from sklearn.model_selection import train_test_split\n",
    "from sklearn.pipeline import Pipeline\n",
    "from sklearn.preprocessing import MinMaxScaler\n",
    "from sklearn.ensemble import GradientBoostingClassifier\n",
    "from sklearn.model_selection import GridSearchCV\n",
    "from sklearn.metrics import classification_report, accuracy_score\n",
    "\n",
    "train_data = pd.read_csv('train.csv')\n",
    "train_data = train_data.drop(['Name', 'PassengerId', 'Cabin'], axis=1)\n",
    "train_data = train_data.fillna(0)\n",
    "train_data = pd.get_dummies(train_data, columns=['HomePlanet', 'Destination'])\n",
    "\n",
    "X_train = train_data.drop('Transported', axis=1)\n",
    "y_train = train_data['Transported']\n",
    "\n",
    "pipeline = Pipeline([\n",
    "    ('scaler', MinMaxScaler()),\n",
    "    ('classifier', GradientBoostingClassifier()),\n",
    "])\n",
    "\n",
    "param_grid = {\n",
    "    'classifier__n_estimators': [50, 100, 200],\n",
    "    'classifier__learning_rate': [0.01, 0.1, 0.2],\n",
    "    'classifier__max_depth': [3, 5, 7],\n",
    "}\n",
    "\n",
    "grid_search = GridSearchCV(pipeline, param_grid=param_grid, cv=5, n_jobs=-1)\n",
    "grid_search.fit(X_train, y_train)\n",
    "\n",
    "test_data = pd.read_csv('test.csv')\n",
    "test_data = test_data.drop(['Name', 'Cabin'], axis=1)\n",
    "test_data = test_data.fillna(0)\n",
    "test_data = pd.get_dummies(test_data, columns=['HomePlanet', 'Destination'])\n",
    "X_test = test_data.drop('PassengerId', axis=1)\n",
    "y_pred = grid_search.predict(X_test)\n",
    "result_df = pd.DataFrame({'PassengerId': test_data['PassengerId'], 'Transported': y_pred.astype(bool)})\n",
    "result_df.to_csv('predictions.csv', index=False)\n",
    "\n",
    "y_pred = grid_search.predict(X_test)\n",
    "\n",
    "# Create a DataFrame with PassengerId and predictions\n",
    "result_df = pd.DataFrame({'PassengerId': test_data['PassengerId'], 'Transported': y_pred.astype(bool)})\n",
    "\n",
    "# Save predictions to a CSV file\n",
    "result_df.to_csv('predictions.csv', index=False)"
   ]
  },
  {
   "cell_type": "code",
   "execution_count": null,
   "id": "d4d3fc7a-a4fc-48c0-a357-620185252837",
   "metadata": {},
   "outputs": [],
   "source": []
  }
 ],
 "metadata": {
  "kernelspec": {
   "display_name": "Python 3 (ipykernel)",
   "language": "python",
   "name": "python3"
  },
  "language_info": {
   "codemirror_mode": {
    "name": "ipython",
    "version": 3
   },
   "file_extension": ".py",
   "mimetype": "text/x-python",
   "name": "python",
   "nbconvert_exporter": "python",
   "pygments_lexer": "ipython3",
   "version": "3.11.4"
  }
 },
 "nbformat": 4,
 "nbformat_minor": 5
}
