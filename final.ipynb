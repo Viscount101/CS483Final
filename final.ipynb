{
 "cells": [
  {
   "cell_type": "code",
   "execution_count": 1,
   "id": "7a302ffd-068e-46eb-af8c-dd734aabb4ea",
   "metadata": {},
   "outputs": [],
   "source": [
    "import pandas as pd\n",
    "import numpy as np\n",
    "import math\n",
    "from sklearn.pipeline import Pipeline\n",
    "from sklearn.base import ClassifierMixin, BaseEstimator, TransformerMixin\n",
    "from sklearn.preprocessing import FunctionTransformer, MinMaxScaler, OneHotEncoder, OrdinalEncoder\n",
    "from sklearn.metrics import accuracy_score\n",
    "from sklearn.compose import ColumnTransformer\n",
    "from sklearn.ensemble import GradientBoostingClassifier\n",
    "from sklearn.model_selection import GridSearchCV"
   ]
  },
  {
   "cell_type": "code",
   "execution_count": 2,
   "id": "5995d525-9498-421a-b371-8d7e8b87f407",
   "metadata": {},
   "outputs": [
    {
     "name": "stdout",
     "output_type": "stream",
     "text": [
      "0       B\n",
      "1       F\n",
      "2       A\n",
      "3       A\n",
      "4       F\n",
      "       ..\n",
      "8688    A\n",
      "8689    G\n",
      "8690    G\n",
      "8691    E\n",
      "8692    E\n",
      "Name: Deck, Length: 8693, dtype: object\n",
      "['Age', 'RoomService', 'FoodCourt', 'ShoppingMall', 'Spa', 'VRDeck', 'Transported', 'HomePlanet_0', 'HomePlanet_Earth', 'HomePlanet_Europa', 'HomePlanet_Mars', 'CryoSleep_False', 'CryoSleep_True', 'Destination_0', 'Destination_55 Cancri e', 'Destination_PSO J318.5-22', 'Destination_TRAPPIST-1e', 'VIP_False', 'VIP_True', 'Deck_A', 'Deck_B', 'Deck_C', 'Deck_D', 'Deck_E', 'Deck_F', 'Deck_G', 'Deck_T', 'Side_P', 'Side_S', 'Number', 'PassengerId']\n",
      "       Age  RoomService  FoodCourt  ShoppingMall   Spa  VRDeck  HomePlanet_0  \\\n",
      "3530  55.0          0.0        0.0           0.0   0.0     0.0         False   \n",
      "1531   4.0          0.0        0.0           0.0   0.0     0.0         False   \n",
      "5148  28.0          0.0        0.0           0.0   0.0     0.0         False   \n",
      "5401  54.0          0.0        0.0           0.0   0.0     0.0         False   \n",
      "2035  53.0          0.0        0.0           0.0   0.0     0.0         False   \n",
      "...    ...          ...        ...           ...   ...     ...           ...   \n",
      "112   33.0          1.0     2223.0           0.0  12.0   404.0         False   \n",
      "2944   1.0          0.0        0.0           0.0   0.0     0.0         False   \n",
      "6434  56.0          2.0      736.0           0.0  71.0     0.0         False   \n",
      "1638  30.0          0.0        0.0           0.0   0.0     0.0         False   \n",
      "7838  19.0          0.0        0.0           0.0   0.0   616.0         False   \n",
      "\n",
      "      HomePlanet_Earth  HomePlanet_Europa  HomePlanet_Mars  ...  Deck_C  \\\n",
      "3530             False              False             True  ...   False   \n",
      "1531              True              False            False  ...   False   \n",
      "5148             False               True            False  ...   False   \n",
      "5401             False               True            False  ...   False   \n",
      "2035             False              False             True  ...   False   \n",
      "...                ...                ...              ...  ...     ...   \n",
      "112              False               True            False  ...   False   \n",
      "2944              True              False            False  ...   False   \n",
      "6434              True              False            False  ...   False   \n",
      "1638              True              False            False  ...   False   \n",
      "7838              True              False            False  ...   False   \n",
      "\n",
      "      Deck_D  Deck_E  Deck_F  Deck_G  Deck_T  Side_P  Side_S  Number  \\\n",
      "3530   False   False    True   False   False   False    True   716.0   \n",
      "1531   False   False   False    True   False   False    True   250.0   \n",
      "5148   False   False   False   False   False   False    True   210.0   \n",
      "5401   False   False   False   False   False    True   False   193.0   \n",
      "2035   False   False    True   False   False    True   False   435.0   \n",
      "...      ...     ...     ...     ...     ...     ...     ...     ...   \n",
      "112     True   False   False   False   False    True   False     4.0   \n",
      "2944   False   False   False    True   False   False    True   505.0   \n",
      "6434   False   False   False    True   False    True   False  1103.0   \n",
      "1638   False   False   False    True   False    True   False   283.0   \n",
      "7838   False   False   False    True   False    True   False  1364.0   \n",
      "\n",
      "      PassengerId  \n",
      "3530      3787_01  \n",
      "1531      1624_03  \n",
      "5148      5497_02  \n",
      "5401      5768_01  \n",
      "2035      2177_01  \n",
      "...           ...  \n",
      "112       0116_01  \n",
      "2944      3195_01  \n",
      "6434      6788_01  \n",
      "1638      1734_01  \n",
      "7838      8366_04  \n",
      "\n",
      "[6085 rows x 30 columns]\n"
     ]
    }
   ],
   "source": [
    "data = pd.read_csv('train.csv')\n",
    "data.fillna(value=0,inplace=True)\n",
    "#columns_to_drop = [\"Name\",\"PassengerId\"] #get rid of categorical values\n",
    "#data = data.drop(columns = columns_to_drop)\n",
    "#data = pd.get_dummies(data)\n",
    "columns_to_drop = [\"Name\", \"PassengerId\"]\n",
    "data_temp = data.drop(columns=columns_to_drop)\n",
    "\n",
    "\n",
    "X_copy = data_temp.copy()\n",
    "#extract the cabin info, deck, number, and side\n",
    "\n",
    "cabin_info = X_copy['Cabin'].str.extract(r'(?P<Deck>[A-Za-z])/(?P<Number>\\d+)/(?P<Side>[PS])')\n",
    "print(cabin_info['Deck'])\n",
    "X_copy = pd.concat([X_copy, cabin_info['Deck']], axis=1)\n",
    "X_copy = pd.concat([X_copy, cabin_info['Side']], axis=1)\n",
    "\n",
    "X_copy = X_copy.drop(columns=\"Cabin\")  \n",
    "data_temp = X_copy;\n",
    "data_temp = pd.get_dummies(data_temp)\n",
    "data_temp = pd.concat([data_temp, cabin_info['Number'].astype('float')], axis=1)\n",
    "\n",
    "data_temp['PassengerId'] = data['PassengerId']\n",
    "\n",
    "print(data_temp.columns.tolist())\n",
    "\n",
    "train = data_temp.sample(frac = 0.70)\n",
    "\n",
    "test = data.drop(train.index)\n",
    "train_xs = train.drop(columns = \"Transported\")\n",
    "train_ys = train['Transported']\n",
    "test_xs = test.drop(columns = \"Transported\")\n",
    "test_ys = test['Transported']\n",
    "\n",
    "\n",
    "train_xs.dtypes\n",
    "print(train_xs)"
   ]
  },
  {
   "cell_type": "code",
   "execution_count": 3,
   "id": "c650f44a-2e4f-4967-8c7c-a1e1a6dab899",
   "metadata": {
    "scrolled": true
   },
   "outputs": [
    {
     "data": {
      "text/html": [
       "<style>#sk-container-id-1 {color: black;}#sk-container-id-1 pre{padding: 0;}#sk-container-id-1 div.sk-toggleable {background-color: white;}#sk-container-id-1 label.sk-toggleable__label {cursor: pointer;display: block;width: 100%;margin-bottom: 0;padding: 0.3em;box-sizing: border-box;text-align: center;}#sk-container-id-1 label.sk-toggleable__label-arrow:before {content: \"▸\";float: left;margin-right: 0.25em;color: #696969;}#sk-container-id-1 label.sk-toggleable__label-arrow:hover:before {color: black;}#sk-container-id-1 div.sk-estimator:hover label.sk-toggleable__label-arrow:before {color: black;}#sk-container-id-1 div.sk-toggleable__content {max-height: 0;max-width: 0;overflow: hidden;text-align: left;background-color: #f0f8ff;}#sk-container-id-1 div.sk-toggleable__content pre {margin: 0.2em;color: black;border-radius: 0.25em;background-color: #f0f8ff;}#sk-container-id-1 input.sk-toggleable__control:checked~div.sk-toggleable__content {max-height: 200px;max-width: 100%;overflow: auto;}#sk-container-id-1 input.sk-toggleable__control:checked~label.sk-toggleable__label-arrow:before {content: \"▾\";}#sk-container-id-1 div.sk-estimator input.sk-toggleable__control:checked~label.sk-toggleable__label {background-color: #d4ebff;}#sk-container-id-1 div.sk-label input.sk-toggleable__control:checked~label.sk-toggleable__label {background-color: #d4ebff;}#sk-container-id-1 input.sk-hidden--visually {border: 0;clip: rect(1px 1px 1px 1px);clip: rect(1px, 1px, 1px, 1px);height: 1px;margin: -1px;overflow: hidden;padding: 0;position: absolute;width: 1px;}#sk-container-id-1 div.sk-estimator {font-family: monospace;background-color: #f0f8ff;border: 1px dotted black;border-radius: 0.25em;box-sizing: border-box;margin-bottom: 0.5em;}#sk-container-id-1 div.sk-estimator:hover {background-color: #d4ebff;}#sk-container-id-1 div.sk-parallel-item::after {content: \"\";width: 100%;border-bottom: 1px solid gray;flex-grow: 1;}#sk-container-id-1 div.sk-label:hover label.sk-toggleable__label {background-color: #d4ebff;}#sk-container-id-1 div.sk-serial::before {content: \"\";position: absolute;border-left: 1px solid gray;box-sizing: border-box;top: 0;bottom: 0;left: 50%;z-index: 0;}#sk-container-id-1 div.sk-serial {display: flex;flex-direction: column;align-items: center;background-color: white;padding-right: 0.2em;padding-left: 0.2em;position: relative;}#sk-container-id-1 div.sk-item {position: relative;z-index: 1;}#sk-container-id-1 div.sk-parallel {display: flex;align-items: stretch;justify-content: center;background-color: white;position: relative;}#sk-container-id-1 div.sk-item::before, #sk-container-id-1 div.sk-parallel-item::before {content: \"\";position: absolute;border-left: 1px solid gray;box-sizing: border-box;top: 0;bottom: 0;left: 50%;z-index: -1;}#sk-container-id-1 div.sk-parallel-item {display: flex;flex-direction: column;z-index: 1;position: relative;background-color: white;}#sk-container-id-1 div.sk-parallel-item:first-child::after {align-self: flex-end;width: 50%;}#sk-container-id-1 div.sk-parallel-item:last-child::after {align-self: flex-start;width: 50%;}#sk-container-id-1 div.sk-parallel-item:only-child::after {width: 0;}#sk-container-id-1 div.sk-dashed-wrapped {border: 1px dashed gray;margin: 0 0.4em 0.5em 0.4em;box-sizing: border-box;padding-bottom: 0.4em;background-color: white;}#sk-container-id-1 div.sk-label label {font-family: monospace;font-weight: bold;display: inline-block;line-height: 1.2em;}#sk-container-id-1 div.sk-label-container {text-align: center;}#sk-container-id-1 div.sk-container {/* jupyter's `normalize.less` sets `[hidden] { display: none; }` but bootstrap.min.css set `[hidden] { display: none !important; }` so we also need the `!important` here to be able to override the default hidden behavior on the sphinx rendered scikit-learn.org. See: https://github.com/scikit-learn/scikit-learn/issues/21755 */display: inline-block !important;position: relative;}#sk-container-id-1 div.sk-text-repr-fallback {display: none;}</style><div id=\"sk-container-id-1\" class=\"sk-top-container\"><div class=\"sk-text-repr-fallback\"><pre>GridSearchCV(estimator=Pipeline(steps=[(&#x27;extract_group&#x27;, ExtractGroupNumber()),\n",
       "                                       (&#x27;scaler&#x27;, MinMaxScaler()),\n",
       "                                       (&#x27;gradient_boosting&#x27;,\n",
       "                                        GradientBoostingClassifier())]),\n",
       "             n_jobs=-1,\n",
       "             param_grid={&#x27;gradient_boosting__max_depth&#x27;: [3, 5, 7],\n",
       "                         &#x27;gradient_boosting__n_estimators&#x27;: [50, 100, 200]},\n",
       "             scoring=&#x27;accuracy&#x27;)</pre><b>In a Jupyter environment, please rerun this cell to show the HTML representation or trust the notebook. <br />On GitHub, the HTML representation is unable to render, please try loading this page with nbviewer.org.</b></div><div class=\"sk-container\" hidden><div class=\"sk-item sk-dashed-wrapped\"><div class=\"sk-label-container\"><div class=\"sk-label sk-toggleable\"><input class=\"sk-toggleable__control sk-hidden--visually\" id=\"sk-estimator-id-1\" type=\"checkbox\" ><label for=\"sk-estimator-id-1\" class=\"sk-toggleable__label sk-toggleable__label-arrow\">GridSearchCV</label><div class=\"sk-toggleable__content\"><pre>GridSearchCV(estimator=Pipeline(steps=[(&#x27;extract_group&#x27;, ExtractGroupNumber()),\n",
       "                                       (&#x27;scaler&#x27;, MinMaxScaler()),\n",
       "                                       (&#x27;gradient_boosting&#x27;,\n",
       "                                        GradientBoostingClassifier())]),\n",
       "             n_jobs=-1,\n",
       "             param_grid={&#x27;gradient_boosting__max_depth&#x27;: [3, 5, 7],\n",
       "                         &#x27;gradient_boosting__n_estimators&#x27;: [50, 100, 200]},\n",
       "             scoring=&#x27;accuracy&#x27;)</pre></div></div></div><div class=\"sk-parallel\"><div class=\"sk-parallel-item\"><div class=\"sk-item\"><div class=\"sk-label-container\"><div class=\"sk-label sk-toggleable\"><input class=\"sk-toggleable__control sk-hidden--visually\" id=\"sk-estimator-id-2\" type=\"checkbox\" ><label for=\"sk-estimator-id-2\" class=\"sk-toggleable__label sk-toggleable__label-arrow\">estimator: Pipeline</label><div class=\"sk-toggleable__content\"><pre>Pipeline(steps=[(&#x27;extract_group&#x27;, ExtractGroupNumber()),\n",
       "                (&#x27;scaler&#x27;, MinMaxScaler()),\n",
       "                (&#x27;gradient_boosting&#x27;, GradientBoostingClassifier())])</pre></div></div></div><div class=\"sk-serial\"><div class=\"sk-item\"><div class=\"sk-serial\"><div class=\"sk-item\"><div class=\"sk-estimator sk-toggleable\"><input class=\"sk-toggleable__control sk-hidden--visually\" id=\"sk-estimator-id-3\" type=\"checkbox\" ><label for=\"sk-estimator-id-3\" class=\"sk-toggleable__label sk-toggleable__label-arrow\">ExtractGroupNumber</label><div class=\"sk-toggleable__content\"><pre>ExtractGroupNumber()</pre></div></div></div><div class=\"sk-item\"><div class=\"sk-estimator sk-toggleable\"><input class=\"sk-toggleable__control sk-hidden--visually\" id=\"sk-estimator-id-4\" type=\"checkbox\" ><label for=\"sk-estimator-id-4\" class=\"sk-toggleable__label sk-toggleable__label-arrow\">MinMaxScaler</label><div class=\"sk-toggleable__content\"><pre>MinMaxScaler()</pre></div></div></div><div class=\"sk-item\"><div class=\"sk-estimator sk-toggleable\"><input class=\"sk-toggleable__control sk-hidden--visually\" id=\"sk-estimator-id-5\" type=\"checkbox\" ><label for=\"sk-estimator-id-5\" class=\"sk-toggleable__label sk-toggleable__label-arrow\">GradientBoostingClassifier</label><div class=\"sk-toggleable__content\"><pre>GradientBoostingClassifier()</pre></div></div></div></div></div></div></div></div></div></div></div></div>"
      ],
      "text/plain": [
       "GridSearchCV(estimator=Pipeline(steps=[('extract_group', ExtractGroupNumber()),\n",
       "                                       ('scaler', MinMaxScaler()),\n",
       "                                       ('gradient_boosting',\n",
       "                                        GradientBoostingClassifier())]),\n",
       "             n_jobs=-1,\n",
       "             param_grid={'gradient_boosting__max_depth': [3, 5, 7],\n",
       "                         'gradient_boosting__n_estimators': [50, 100, 200]},\n",
       "             scoring='accuracy')"
      ]
     },
     "execution_count": 3,
     "metadata": {},
     "output_type": "execute_result"
    }
   ],
   "source": [
    "class ExtractGroupNumber(BaseEstimator, ClassifierMixin):\n",
    "    def __init__(self, column_name='PassengerId'):\n",
    "        self.column_name = column_name\n",
    "\n",
    "    def fit(self, X, y=None):\n",
    "        return self\n",
    "\n",
    "    def transform(self, X):\n",
    "        if self.column_name in X.columns:\n",
    "            X_copy = X.copy()\n",
    "            X_copy['GroupNumber'] = X_copy[self.column_name].apply(lambda x: int(x.split('_')[0]))\n",
    "            #print(X_copy['GroupNumber'].dtypes)\n",
    "            return X_copy[['GroupNumber']]\n",
    "        else:\n",
    "            return X\n",
    "\n",
    "\n",
    "gradientboosting_pipeline = Pipeline([\n",
    "    ('extract_group', ExtractGroupNumber()),\n",
    "    ('scaler',MinMaxScaler()),\n",
    "    ('gradient_boosting', GradientBoostingClassifier())\n",
    "])\n",
    "\n",
    "gradientboosting_grid = {\n",
    "    'gradient_boosting__n_estimators': [50,100,200],  #number of boosting stages, larger number tends to do better\n",
    "    'gradient_boosting__max_depth': [3,5,7],  #limits number of nodes in tree\n",
    "}\n",
    "gradientboosting_search = GridSearchCV(gradientboosting_pipeline, gradientboosting_grid, scoring='accuracy', n_jobs=-1)\n",
    "gradientboosting_search.fit(train_xs, train_ys)"
   ]
  },
  {
   "cell_type": "code",
   "execution_count": 4,
   "id": "f9d4af79-cec2-4d30-b4ec-a646ef7c775b",
   "metadata": {},
   "outputs": [
    {
     "name": "stdout",
     "output_type": "stream",
     "text": [
      "Accuracy: 0.5467543138866064\n",
      "Best params: {'gradient_boosting__max_depth': 3, 'gradient_boosting__n_estimators': 50}\n",
      "\n"
     ]
    }
   ],
   "source": [
    "gradientboosting_params = gradientboosting_search.best_params_\n",
    "gradientboosting_score = gradientboosting_search.best_score_\n",
    "print(f\"Accuracy: {gradientboosting_score}\")\n",
    "print(f\"Best params: {gradientboosting_params}\\n\")"
   ]
  },
  {
   "cell_type": "code",
   "execution_count": null,
   "id": "01ec9324-ec9c-49ef-8c6d-41e59c15554e",
   "metadata": {},
   "outputs": [],
   "source": []
  }
 ],
 "metadata": {
  "kernelspec": {
   "display_name": "machine learning",
   "language": "python",
   "name": "machine_learning"
  },
  "language_info": {
   "codemirror_mode": {
    "name": "ipython",
    "version": 3
   },
   "file_extension": ".py",
   "mimetype": "text/x-python",
   "name": "python",
   "nbconvert_exporter": "python",
   "pygments_lexer": "ipython3",
   "version": "3.11.5"
  }
 },
 "nbformat": 4,
 "nbformat_minor": 5
}
